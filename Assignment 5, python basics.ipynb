{
 "cells": [
  {
   "cell_type": "markdown",
   "id": "447fb8cf",
   "metadata": {},
   "source": [
    "### Question1\n",
    "\n",
    "What does an empty dictionary's code look like?\n",
    "\n",
    "### Answer:- \n",
    "\n",
    "This is how empty dictionary looks like {}. Two curly brackets."
   ]
  },
  {
   "cell_type": "markdown",
   "id": "025407f8",
   "metadata": {},
   "source": [
    "### Question2\n",
    "\n",
    "What is the value of dictionary value with the key 'foo' and the value 42?\n",
    "\n",
    "### Answer:- \n",
    "\n",
    "The value of dictionary {\"foo\":42}\n"
   ]
  },
  {
   "cell_type": "markdown",
   "id": "10cf676e",
   "metadata": {},
   "source": [
    "### Question3\n",
    "\n",
    "What is the most significant distinction between a dictionary and list?\n",
    "\n",
    "### Answer:-\n",
    "\n",
    "The most significant distinction between a dictionary and a list is dictionary will not allow duplicate values where as list will duplicate values."
   ]
  },
  {
   "cell_type": "markdown",
   "id": "9d846817",
   "metadata": {},
   "source": [
    "### Question4\n",
    "\n",
    "What happens if you try to access spam['foo'] if spam is {'bar':100}?\n",
    "\n",
    "### Answer:-\n",
    "\n",
    "we will get KeyError."
   ]
  },
  {
   "cell_type": "code",
   "execution_count": 1,
   "id": "dd858c35",
   "metadata": {},
   "outputs": [
    {
     "ename": "KeyError",
     "evalue": "'foo'",
     "output_type": "error",
     "traceback": [
      "\u001b[1;31m---------------------------------------------------------------------------\u001b[0m",
      "\u001b[1;31mKeyError\u001b[0m                                  Traceback (most recent call last)",
      "\u001b[1;32m~\\AppData\\Local\\Temp/ipykernel_23624/4026577702.py\u001b[0m in \u001b[0;36m<module>\u001b[1;34m\u001b[0m\n\u001b[0;32m      1\u001b[0m \u001b[0mspam\u001b[0m \u001b[1;33m=\u001b[0m \u001b[1;33m{\u001b[0m\u001b[1;34m'bar'\u001b[0m\u001b[1;33m:\u001b[0m\u001b[1;36m100\u001b[0m\u001b[1;33m}\u001b[0m\u001b[1;33m\u001b[0m\u001b[1;33m\u001b[0m\u001b[0m\n\u001b[1;32m----> 2\u001b[1;33m \u001b[0mspam\u001b[0m\u001b[1;33m[\u001b[0m\u001b[1;34m'foo'\u001b[0m\u001b[1;33m]\u001b[0m\u001b[1;33m\u001b[0m\u001b[1;33m\u001b[0m\u001b[0m\n\u001b[0m",
      "\u001b[1;31mKeyError\u001b[0m: 'foo'"
     ]
    }
   ],
   "source": [
    "spam = {'bar':100}\n",
    "spam['foo']"
   ]
  },
  {
   "cell_type": "markdown",
   "id": "e1b24016",
   "metadata": {},
   "source": [
    "### Question5\n",
    "\n",
    "If a dictionary is stored in spam, what is the difference between the expressions 'cat' in spam and 'cat' in spam.values()?\n",
    "\n",
    "### Answer:-\n",
    "\n",
    "There is no difference in both statement in 'cat' in spam and 'cat' in spam.keys() it checks both times whether the value exist in keys or not in dictionary."
   ]
  },
  {
   "cell_type": "code",
   "execution_count": 2,
   "id": "f74ff5c9",
   "metadata": {},
   "outputs": [],
   "source": [
    "spam = {'cat':10}"
   ]
  },
  {
   "cell_type": "code",
   "execution_count": 3,
   "id": "e1e42b7c",
   "metadata": {},
   "outputs": [
    {
     "data": {
      "text/plain": [
       "True"
      ]
     },
     "execution_count": 3,
     "metadata": {},
     "output_type": "execute_result"
    }
   ],
   "source": [
    "'cat' in spam"
   ]
  },
  {
   "cell_type": "code",
   "execution_count": 4,
   "id": "92a0657d",
   "metadata": {},
   "outputs": [
    {
     "data": {
      "text/plain": [
       "True"
      ]
     },
     "execution_count": 4,
     "metadata": {},
     "output_type": "execute_result"
    }
   ],
   "source": [
    "'cat' in spam.keys()"
   ]
  },
  {
   "cell_type": "markdown",
   "id": "1bdd6c9f",
   "metadata": {},
   "source": [
    "### Question6\n",
    "\n",
    "If a dictionary is stored in spam, what is the difference between the expressions 'cat' in spam and 'cat' in spam.values()?\n",
    "\n",
    "### Answer:-\n",
    "\n",
    "The difference between them is when we say 'cat' in spam that means it will check 'cat' is present in dictionary's keys or not, and when we say 'cat' in spam.values() then it checks in dictionary's values that 'cat' is present or not in values."
   ]
  },
  {
   "cell_type": "code",
   "execution_count": 5,
   "id": "b57299e9",
   "metadata": {},
   "outputs": [
    {
     "data": {
      "text/plain": [
       "True"
      ]
     },
     "execution_count": 5,
     "metadata": {},
     "output_type": "execute_result"
    }
   ],
   "source": [
    "spam = {\"cat\":100}\n",
    "\n",
    "'cat' in spam"
   ]
  },
  {
   "cell_type": "code",
   "execution_count": 6,
   "id": "ce4ed217",
   "metadata": {},
   "outputs": [
    {
     "data": {
      "text/plain": [
       "False"
      ]
     },
     "execution_count": 6,
     "metadata": {},
     "output_type": "execute_result"
    }
   ],
   "source": [
    "'cat' in spam.values()"
   ]
  },
  {
   "cell_type": "markdown",
   "id": "57f4a635",
   "metadata": {},
   "source": [
    "### Question7\n",
    "\n",
    "What is a shortcut for the following code?\n",
    "\n",
    "if 'color' not in spam:\n",
    "    spam['color']= 'black'\n",
    "\n",
    "### Answer:-\n",
    "\n",
    "spam.setdefault(\"color\", \"black\") this is the shortcut for this code."
   ]
  },
  {
   "cell_type": "code",
   "execution_count": 10,
   "id": "d00872e1",
   "metadata": {},
   "outputs": [],
   "source": [
    "spam = {\"car\": \"nexon\"}"
   ]
  },
  {
   "cell_type": "code",
   "execution_count": 8,
   "id": "8042b3d9",
   "metadata": {},
   "outputs": [],
   "source": [
    "if 'color' not in spam:\n",
    "    spam[\"color\"] = 'black'"
   ]
  },
  {
   "cell_type": "code",
   "execution_count": 9,
   "id": "f0d089fd",
   "metadata": {},
   "outputs": [
    {
     "data": {
      "text/plain": [
       "{'car': 'nexon', 'color': 'black'}"
      ]
     },
     "execution_count": 9,
     "metadata": {},
     "output_type": "execute_result"
    }
   ],
   "source": [
    "spam"
   ]
  },
  {
   "cell_type": "code",
   "execution_count": 11,
   "id": "b904a492",
   "metadata": {},
   "outputs": [
    {
     "data": {
      "text/plain": [
       "'black'"
      ]
     },
     "execution_count": 11,
     "metadata": {},
     "output_type": "execute_result"
    }
   ],
   "source": [
    "spam.setdefault('color', \"black\")"
   ]
  },
  {
   "cell_type": "code",
   "execution_count": 12,
   "id": "90bd0e05",
   "metadata": {},
   "outputs": [
    {
     "data": {
      "text/plain": [
       "{'car': 'nexon', 'color': 'black'}"
      ]
     },
     "execution_count": 12,
     "metadata": {},
     "output_type": "execute_result"
    }
   ],
   "source": [
    "spam"
   ]
  },
  {
   "cell_type": "markdown",
   "id": "763e52b8",
   "metadata": {},
   "source": [
    "### Question8\n",
    "\n",
    "How do you \"pretty print\" dictionary values using which module and function?\n",
    "\n",
    "### Answer:- \n",
    "\n",
    "The module is pprint, syntax pprint.pprint()"
   ]
  }
 ],
 "metadata": {
  "kernelspec": {
   "display_name": "Python 3 (ipykernel)",
   "language": "python",
   "name": "python3"
  },
  "language_info": {
   "codemirror_mode": {
    "name": "ipython",
    "version": 3
   },
   "file_extension": ".py",
   "mimetype": "text/x-python",
   "name": "python",
   "nbconvert_exporter": "python",
   "pygments_lexer": "ipython3",
   "version": "3.8.11"
  }
 },
 "nbformat": 4,
 "nbformat_minor": 5
}
